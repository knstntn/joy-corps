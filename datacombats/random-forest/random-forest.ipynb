{
 "cells": [
  {
   "cell_type": "markdown",
   "metadata": {},
   "source": [
    "Импорт необходиых библиотек и загрузка данных"
   ]
  },
  {
   "cell_type": "code",
   "execution_count": 129,
   "metadata": {
    "collapsed": true
   },
   "outputs": [],
   "source": [
    "import numpy as np\n",
    "import pandas as pd\n",
    "from sklearn.ensemble import RandomForestClassifier as RFC\n",
    "from sklearn.model_selection import cross_val_score\n",
    "from sklearn.model_selection import KFold\n",
    "from sklearn.model_selection import GridSearchCV"
   ]
  },
  {
   "cell_type": "code",
   "execution_count": 2,
   "metadata": {
    "collapsed": true
   },
   "outputs": [],
   "source": [
    "data_lables =pd.read_csv('output1.csv')\n",
    "data =pd.read_csv('input1.csv')"
   ]
  },
  {
   "cell_type": "code",
   "execution_count": 77,
   "metadata": {},
   "outputs": [
    {
     "data": {
      "text/html": [
       "<div>\n",
       "<style>\n",
       "    .dataframe thead tr:only-child th {\n",
       "        text-align: right;\n",
       "    }\n",
       "\n",
       "    .dataframe thead th {\n",
       "        text-align: left;\n",
       "    }\n",
       "\n",
       "    .dataframe tbody tr th {\n",
       "        vertical-align: top;\n",
       "    }\n",
       "</style>\n",
       "<table border=\"1\" class=\"dataframe\">\n",
       "  <thead>\n",
       "    <tr style=\"text-align: right;\">\n",
       "      <th></th>\n",
       "      <th>1.93E+00</th>\n",
       "      <th>1.93E+00.1</th>\n",
       "      <th>1.93E+00.2</th>\n",
       "      <th>1.93E+00.3</th>\n",
       "      <th>1.93E+00.4</th>\n",
       "      <th>1.93E+00.5</th>\n",
       "      <th>1.93E+00.6</th>\n",
       "      <th>4.56E-01</th>\n",
       "      <th>2.53E-01</th>\n",
       "      <th>2.04E-01</th>\n",
       "      <th>...</th>\n",
       "      <th>3.11E-03.1</th>\n",
       "      <th>5.71E-02</th>\n",
       "      <th>5.03E-02</th>\n",
       "      <th>-5.70E-02</th>\n",
       "      <th>9.80E-03</th>\n",
       "      <th>3.88E-02</th>\n",
       "      <th>6.76E-02</th>\n",
       "      <th>-3.29E-02</th>\n",
       "      <th>3.82E-03</th>\n",
       "      <th>-2.96E-02</th>\n",
       "    </tr>\n",
       "  </thead>\n",
       "  <tbody>\n",
       "    <tr>\n",
       "      <th>99994</th>\n",
       "      <td>163.0</td>\n",
       "      <td>1.0</td>\n",
       "      <td>1.0</td>\n",
       "      <td>0.718</td>\n",
       "      <td>0.642</td>\n",
       "      <td>-0.897</td>\n",
       "      <td>0.792</td>\n",
       "      <td>0.397</td>\n",
       "      <td>0.256</td>\n",
       "      <td>0.151</td>\n",
       "      <td>...</td>\n",
       "      <td>0.0</td>\n",
       "      <td>0.0</td>\n",
       "      <td>0.0</td>\n",
       "      <td>0.0</td>\n",
       "      <td>0.0</td>\n",
       "      <td>0.0</td>\n",
       "      <td>0.0</td>\n",
       "      <td>0.0</td>\n",
       "      <td>0.0</td>\n",
       "      <td>0.0</td>\n",
       "    </tr>\n",
       "    <tr>\n",
       "      <th>99995</th>\n",
       "      <td>163.0</td>\n",
       "      <td>1.0</td>\n",
       "      <td>1.0</td>\n",
       "      <td>0.718</td>\n",
       "      <td>0.660</td>\n",
       "      <td>-0.897</td>\n",
       "      <td>0.811</td>\n",
       "      <td>0.397</td>\n",
       "      <td>0.256</td>\n",
       "      <td>0.151</td>\n",
       "      <td>...</td>\n",
       "      <td>0.0</td>\n",
       "      <td>0.0</td>\n",
       "      <td>0.0</td>\n",
       "      <td>0.0</td>\n",
       "      <td>0.0</td>\n",
       "      <td>0.0</td>\n",
       "      <td>0.0</td>\n",
       "      <td>0.0</td>\n",
       "      <td>0.0</td>\n",
       "      <td>0.0</td>\n",
       "    </tr>\n",
       "    <tr>\n",
       "      <th>99996</th>\n",
       "      <td>163.0</td>\n",
       "      <td>1.0</td>\n",
       "      <td>1.0</td>\n",
       "      <td>0.718</td>\n",
       "      <td>0.660</td>\n",
       "      <td>-0.897</td>\n",
       "      <td>0.811</td>\n",
       "      <td>0.397</td>\n",
       "      <td>0.256</td>\n",
       "      <td>0.151</td>\n",
       "      <td>...</td>\n",
       "      <td>0.0</td>\n",
       "      <td>0.0</td>\n",
       "      <td>0.0</td>\n",
       "      <td>0.0</td>\n",
       "      <td>0.0</td>\n",
       "      <td>0.0</td>\n",
       "      <td>0.0</td>\n",
       "      <td>0.0</td>\n",
       "      <td>0.0</td>\n",
       "      <td>0.0</td>\n",
       "    </tr>\n",
       "    <tr>\n",
       "      <th>99997</th>\n",
       "      <td>163.0</td>\n",
       "      <td>1.0</td>\n",
       "      <td>1.0</td>\n",
       "      <td>0.744</td>\n",
       "      <td>0.660</td>\n",
       "      <td>-0.897</td>\n",
       "      <td>0.830</td>\n",
       "      <td>0.397</td>\n",
       "      <td>0.255</td>\n",
       "      <td>0.152</td>\n",
       "      <td>...</td>\n",
       "      <td>0.0</td>\n",
       "      <td>0.0</td>\n",
       "      <td>0.0</td>\n",
       "      <td>0.0</td>\n",
       "      <td>0.0</td>\n",
       "      <td>0.0</td>\n",
       "      <td>0.0</td>\n",
       "      <td>0.0</td>\n",
       "      <td>0.0</td>\n",
       "      <td>0.0</td>\n",
       "    </tr>\n",
       "    <tr>\n",
       "      <th>99998</th>\n",
       "      <td>163.0</td>\n",
       "      <td>1.0</td>\n",
       "      <td>1.0</td>\n",
       "      <td>0.744</td>\n",
       "      <td>0.660</td>\n",
       "      <td>-0.897</td>\n",
       "      <td>0.830</td>\n",
       "      <td>0.397</td>\n",
       "      <td>0.255</td>\n",
       "      <td>0.152</td>\n",
       "      <td>...</td>\n",
       "      <td>0.0</td>\n",
       "      <td>0.0</td>\n",
       "      <td>0.0</td>\n",
       "      <td>0.0</td>\n",
       "      <td>0.0</td>\n",
       "      <td>0.0</td>\n",
       "      <td>0.0</td>\n",
       "      <td>0.0</td>\n",
       "      <td>0.0</td>\n",
       "      <td>0.0</td>\n",
       "    </tr>\n",
       "  </tbody>\n",
       "</table>\n",
       "<p>5 rows × 170 columns</p>\n",
       "</div>"
      ],
      "text/plain": [
       "       1.93E+00  1.93E+00.1  1.93E+00.2  1.93E+00.3  1.93E+00.4  1.93E+00.5  \\\n",
       "99994     163.0         1.0         1.0       0.718       0.642      -0.897   \n",
       "99995     163.0         1.0         1.0       0.718       0.660      -0.897   \n",
       "99996     163.0         1.0         1.0       0.718       0.660      -0.897   \n",
       "99997     163.0         1.0         1.0       0.744       0.660      -0.897   \n",
       "99998     163.0         1.0         1.0       0.744       0.660      -0.897   \n",
       "\n",
       "       1.93E+00.6  4.56E-01  2.53E-01  2.04E-01    ...      3.11E-03.1  \\\n",
       "99994       0.792     0.397     0.256     0.151    ...             0.0   \n",
       "99995       0.811     0.397     0.256     0.151    ...             0.0   \n",
       "99996       0.811     0.397     0.256     0.151    ...             0.0   \n",
       "99997       0.830     0.397     0.255     0.152    ...             0.0   \n",
       "99998       0.830     0.397     0.255     0.152    ...             0.0   \n",
       "\n",
       "       5.71E-02  5.03E-02  -5.70E-02  9.80E-03  3.88E-02  6.76E-02  -3.29E-02  \\\n",
       "99994       0.0       0.0        0.0       0.0       0.0       0.0        0.0   \n",
       "99995       0.0       0.0        0.0       0.0       0.0       0.0        0.0   \n",
       "99996       0.0       0.0        0.0       0.0       0.0       0.0        0.0   \n",
       "99997       0.0       0.0        0.0       0.0       0.0       0.0        0.0   \n",
       "99998       0.0       0.0        0.0       0.0       0.0       0.0        0.0   \n",
       "\n",
       "       3.82E-03  -2.96E-02  \n",
       "99994       0.0        0.0  \n",
       "99995       0.0        0.0  \n",
       "99996       0.0        0.0  \n",
       "99997       0.0        0.0  \n",
       "99998       0.0        0.0  \n",
       "\n",
       "[5 rows x 170 columns]"
      ]
     },
     "execution_count": 77,
     "metadata": {},
     "output_type": "execute_result"
    }
   ],
   "source": [
    "data.tail()"
   ]
  },
  {
   "cell_type": "markdown",
   "metadata": {},
   "source": [
    "Тренировка дефолтного RFC"
   ]
  },
  {
   "cell_type": "code",
   "execution_count": 10,
   "metadata": {
    "collapsed": true
   },
   "outputs": [],
   "source": [
    "clf0 = RFC()\n",
    "cv = KFold(n_splits=3)\n",
    "score3 = cross_val_score(clf0, data, data_lables[data_lables.columns[0]], cv=cv)"
   ]
  },
  {
   "cell_type": "code",
   "execution_count": 11,
   "metadata": {},
   "outputs": [
    {
     "name": "stdout",
     "output_type": "stream",
     "text": [
      "[ 0.44850449  0.30687307  0.3297033 ]\n"
     ]
    }
   ],
   "source": [
    "print(score3)"
   ]
  },
  {
   "cell_type": "markdown",
   "metadata": {
    "collapsed": true
   },
   "source": [
    "Отброс признаков через корелляцию"
   ]
  },
  {
   "cell_type": "code",
   "execution_count": 57,
   "metadata": {
    "collapsed": true
   },
   "outputs": [],
   "source": [
    "cr  = data.corr()"
   ]
  },
  {
   "cell_type": "code",
   "execution_count": 56,
   "metadata": {},
   "outputs": [
    {
     "data": {
      "image/png": "[encoded data removed]",
      "text/plain": [
       "<matplotlib.figure.Figure at 0x22b61217fd0>"
      ]
     },
     "metadata": {},
     "output_type": "display_data"
    }
   ],
   "source": [
    "plt.matshow(cr)\n",
    "plt.show()"
   ]
  },
  {
   "cell_type": "code",
   "execution_count": 72,
   "metadata": {
    "collapsed": true
   },
   "outputs": [],
   "source": [
    "cr  = cr - np.diag(np.diag(cr))"
   ]
  },
  {
   "cell_type": "code",
   "execution_count": 91,
   "metadata": {},
   "outputs": [],
   "source": [
    "s = set()\n",
    "arr1,arr2 = np.where(np.abs(cr.values) > 0.75)\n",
    "uniq = np.unique(arr1)"
   ]
  },
  {
   "cell_type": "code",
   "execution_count": 102,
   "metadata": {},
   "outputs": [],
   "source": [
    "for i in range(len(arr1)):\n",
    "    if arr1[i] >=0:\n",
    "        temp_arr = np.where(arr2 == arr1[i])\n",
    "        for j in temp_arr:\n",
    "            arr1[j] = -1"
   ]
  },
  {
   "cell_type": "code",
   "execution_count": 109,
   "metadata": {},
   "outputs": [],
   "source": [
    "excess_columns = data.columns[np.unique(arr2 [arr1 < 0])]"
   ]
  },
  {
   "cell_type": "code",
   "execution_count": 122,
   "metadata": {
    "collapsed": true
   },
   "outputs": [],
   "source": [
    "data1 = data.drop(excess_columns, axis = 1)"
   ]
  },
  {
   "cell_type": "code",
   "execution_count": 111,
   "metadata": {},
   "outputs": [
    {
     "data": {
      "text/html": [
       "<div>\n",
       "<style>\n",
       "    .dataframe thead tr:only-child th {\n",
       "        text-align: right;\n",
       "    }\n",
       "\n",
       "    .dataframe thead th {\n",
       "        text-align: left;\n",
       "    }\n",
       "\n",
       "    .dataframe tbody tr th {\n",
       "        vertical-align: top;\n",
       "    }\n",
       "</style>\n",
       "<table border=\"1\" class=\"dataframe\">\n",
       "  <thead>\n",
       "    <tr style=\"text-align: right;\">\n",
       "      <th></th>\n",
       "      <th>1.93E+00</th>\n",
       "      <th>1.93E+00.2</th>\n",
       "      <th>1.93E+00.3</th>\n",
       "      <th>1.93E+00.6</th>\n",
       "      <th>4.56E-01</th>\n",
       "      <th>2.04E-01</th>\n",
       "      <th>2.01E-01</th>\n",
       "      <th>1.40E-01</th>\n",
       "      <th>9.37E-01</th>\n",
       "      <th>5.24E-01</th>\n",
       "      <th>...</th>\n",
       "      <th>3.11E-03.1</th>\n",
       "      <th>5.71E-02</th>\n",
       "      <th>5.03E-02</th>\n",
       "      <th>-5.70E-02</th>\n",
       "      <th>9.80E-03</th>\n",
       "      <th>3.88E-02</th>\n",
       "      <th>6.76E-02</th>\n",
       "      <th>-3.29E-02</th>\n",
       "      <th>3.82E-03</th>\n",
       "      <th>-2.96E-02</th>\n",
       "    </tr>\n",
       "  </thead>\n",
       "  <tbody>\n",
       "    <tr>\n",
       "      <th>99994</th>\n",
       "      <td>163.0</td>\n",
       "      <td>1.0</td>\n",
       "      <td>0.718</td>\n",
       "      <td>0.792</td>\n",
       "      <td>0.397</td>\n",
       "      <td>0.151</td>\n",
       "      <td>0.222</td>\n",
       "      <td>0.700</td>\n",
       "      <td>1.19</td>\n",
       "      <td>1.11</td>\n",
       "      <td>...</td>\n",
       "      <td>0.0</td>\n",
       "      <td>0.0</td>\n",
       "      <td>0.0</td>\n",
       "      <td>0.0</td>\n",
       "      <td>0.0</td>\n",
       "      <td>0.0</td>\n",
       "      <td>0.0</td>\n",
       "      <td>0.0</td>\n",
       "      <td>0.0</td>\n",
       "      <td>0.0</td>\n",
       "    </tr>\n",
       "    <tr>\n",
       "      <th>99995</th>\n",
       "      <td>163.0</td>\n",
       "      <td>1.0</td>\n",
       "      <td>0.718</td>\n",
       "      <td>0.811</td>\n",
       "      <td>0.397</td>\n",
       "      <td>0.151</td>\n",
       "      <td>0.222</td>\n",
       "      <td>0.700</td>\n",
       "      <td>1.19</td>\n",
       "      <td>1.11</td>\n",
       "      <td>...</td>\n",
       "      <td>0.0</td>\n",
       "      <td>0.0</td>\n",
       "      <td>0.0</td>\n",
       "      <td>0.0</td>\n",
       "      <td>0.0</td>\n",
       "      <td>0.0</td>\n",
       "      <td>0.0</td>\n",
       "      <td>0.0</td>\n",
       "      <td>0.0</td>\n",
       "      <td>0.0</td>\n",
       "    </tr>\n",
       "    <tr>\n",
       "      <th>99996</th>\n",
       "      <td>163.0</td>\n",
       "      <td>1.0</td>\n",
       "      <td>0.718</td>\n",
       "      <td>0.811</td>\n",
       "      <td>0.397</td>\n",
       "      <td>0.151</td>\n",
       "      <td>0.222</td>\n",
       "      <td>0.700</td>\n",
       "      <td>1.19</td>\n",
       "      <td>1.11</td>\n",
       "      <td>...</td>\n",
       "      <td>0.0</td>\n",
       "      <td>0.0</td>\n",
       "      <td>0.0</td>\n",
       "      <td>0.0</td>\n",
       "      <td>0.0</td>\n",
       "      <td>0.0</td>\n",
       "      <td>0.0</td>\n",
       "      <td>0.0</td>\n",
       "      <td>0.0</td>\n",
       "      <td>0.0</td>\n",
       "    </tr>\n",
       "    <tr>\n",
       "      <th>99997</th>\n",
       "      <td>163.0</td>\n",
       "      <td>1.0</td>\n",
       "      <td>0.744</td>\n",
       "      <td>0.830</td>\n",
       "      <td>0.397</td>\n",
       "      <td>0.152</td>\n",
       "      <td>0.222</td>\n",
       "      <td>0.705</td>\n",
       "      <td>1.19</td>\n",
       "      <td>1.11</td>\n",
       "      <td>...</td>\n",
       "      <td>0.0</td>\n",
       "      <td>0.0</td>\n",
       "      <td>0.0</td>\n",
       "      <td>0.0</td>\n",
       "      <td>0.0</td>\n",
       "      <td>0.0</td>\n",
       "      <td>0.0</td>\n",
       "      <td>0.0</td>\n",
       "      <td>0.0</td>\n",
       "      <td>0.0</td>\n",
       "    </tr>\n",
       "    <tr>\n",
       "      <th>99998</th>\n",
       "      <td>163.0</td>\n",
       "      <td>1.0</td>\n",
       "      <td>0.744</td>\n",
       "      <td>0.830</td>\n",
       "      <td>0.397</td>\n",
       "      <td>0.152</td>\n",
       "      <td>0.222</td>\n",
       "      <td>0.705</td>\n",
       "      <td>1.19</td>\n",
       "      <td>1.11</td>\n",
       "      <td>...</td>\n",
       "      <td>0.0</td>\n",
       "      <td>0.0</td>\n",
       "      <td>0.0</td>\n",
       "      <td>0.0</td>\n",
       "      <td>0.0</td>\n",
       "      <td>0.0</td>\n",
       "      <td>0.0</td>\n",
       "      <td>0.0</td>\n",
       "      <td>0.0</td>\n",
       "      <td>0.0</td>\n",
       "    </tr>\n",
       "  </tbody>\n",
       "</table>\n",
       "<p>5 rows × 141 columns</p>\n",
       "</div>"
      ],
      "text/plain": [
       "       1.93E+00  1.93E+00.2  1.93E+00.3  1.93E+00.6  4.56E-01  2.04E-01  \\\n",
       "99994     163.0         1.0       0.718       0.792     0.397     0.151   \n",
       "99995     163.0         1.0       0.718       0.811     0.397     0.151   \n",
       "99996     163.0         1.0       0.718       0.811     0.397     0.151   \n",
       "99997     163.0         1.0       0.744       0.830     0.397     0.152   \n",
       "99998     163.0         1.0       0.744       0.830     0.397     0.152   \n",
       "\n",
       "       2.01E-01  1.40E-01  9.37E-01  5.24E-01    ...      3.11E-03.1  \\\n",
       "99994     0.222     0.700      1.19      1.11    ...             0.0   \n",
       "99995     0.222     0.700      1.19      1.11    ...             0.0   \n",
       "99996     0.222     0.700      1.19      1.11    ...             0.0   \n",
       "99997     0.222     0.705      1.19      1.11    ...             0.0   \n",
       "99998     0.222     0.705      1.19      1.11    ...             0.0   \n",
       "\n",
       "       5.71E-02  5.03E-02  -5.70E-02  9.80E-03  3.88E-02  6.76E-02  -3.29E-02  \\\n",
       "99994       0.0       0.0        0.0       0.0       0.0       0.0        0.0   \n",
       "99995       0.0       0.0        0.0       0.0       0.0       0.0        0.0   \n",
       "99996       0.0       0.0        0.0       0.0       0.0       0.0        0.0   \n",
       "99997       0.0       0.0        0.0       0.0       0.0       0.0        0.0   \n",
       "99998       0.0       0.0        0.0       0.0       0.0       0.0        0.0   \n",
       "\n",
       "       3.82E-03  -2.96E-02  \n",
       "99994       0.0        0.0  \n",
       "99995       0.0        0.0  \n",
       "99996       0.0        0.0  \n",
       "99997       0.0        0.0  \n",
       "99998       0.0        0.0  \n",
       "\n",
       "[5 rows x 141 columns]"
      ]
     },
     "execution_count": 111,
     "metadata": {},
     "output_type": "execute_result"
    }
   ],
   "source": [
    "data1.tail()"
   ]
  },
  {
   "cell_type": "markdown",
   "metadata": {},
   "source": [
    "Проверяем деревья на новых признаках"
   ]
  },
  {
   "cell_type": "code",
   "execution_count": 113,
   "metadata": {},
   "outputs": [
    {
     "name": "stdout",
     "output_type": "stream",
     "text": [
      "[ 0.4704947   0.30084301  0.29223292]\n"
     ]
    }
   ],
   "source": [
    "score_ = cross_val_score(clf3, data1, data_lables[data_lables.columns[0]], cv=cv)\n",
    "print(score_)"
   ]
  },
  {
   "cell_type": "markdown",
   "metadata": {},
   "source": [
    "В среднем не поменялось. Попробуем отбросить еще признаки"
   ]
  },
  {
   "cell_type": "code",
   "execution_count": 123,
   "metadata": {
    "collapsed": true
   },
   "outputs": [],
   "source": [
    "data2 = data1"
   ]
  },
  {
   "cell_type": "code",
   "execution_count": 128,
   "metadata": {},
   "outputs": [
    {
     "name": "stdout",
     "output_type": "stream",
     "text": [
      "0.349913499135 0.00E+00.12 : 23\n",
      "0.350903509035 0.00E+00.14 : 24\n",
      "0.378823788238 1.10E-01 : 87\n",
      "0.381803818038 "
     ]
    }
   ],
   "source": [
    "old = -1\n",
    "new = cross_val_score(clf3, data2, data_lables[data_lables.columns[0]], cv=cv).mean()\n",
    "data_temp = data2\n",
    "while old <= new:\n",
    "    old = new\n",
    "    print(old, end = ' ')\n",
    "    data2 = data_temp\n",
    "    clf3.fit(data2, data_lables[data_lables.columns[0]])\n",
    "    for i in np.argsort(clf3.feature_importances_):\n",
    "        bad = i\n",
    "        if clf3.feature_importances_[i] > 2/len(clf3.feature_importances_):\n",
    "            break\n",
    "        data_temp = data2.drop(data2.columns[bad], axis = 1)\n",
    "        new = cross_val_score(clf3, data_temp, data_lables[data_lables.columns[0]], cv=cv).mean()\n",
    "        if old < new:\n",
    "            print(data2.columns[bad] +\" : \"+ str(i))\n",
    "            data2 = data_temp\n",
    "            break"
   ]
  },
  {
   "cell_type": "markdown",
   "metadata": {},
   "source": [
    "Поиск через гридсеарч"
   ]
  },
  {
   "cell_type": "code",
   "execution_count": 143,
   "metadata": {
    "collapsed": true
   },
   "outputs": [],
   "source": [
    "parameters = {'max_depth':np.linspace(2,20,10).astype(int)}\n",
    "rfc =RFC(n_estimators=100) \n",
    "clf = GridSearchCV(rfc, parameters, cv=cv)"
   ]
  },
  {
   "cell_type": "code",
   "execution_count": 144,
   "metadata": {},
   "outputs": [
    {
     "data": {
      "text/plain": [
       "GridSearchCV(cv=KFold(n_splits=3, random_state=None, shuffle=False),\n",
       "       error_score='raise',\n",
       "       estimator=RandomForestClassifier(bootstrap=True, class_weight=None, criterion='gini',\n",
       "            max_depth=None, max_features='auto', max_leaf_nodes=None,\n",
       "            min_impurity_decrease=0.0, min_impurity_split=None,\n",
       "            min_samples_leaf=1, min_samples_split=2,\n",
       "            min_weight_fraction_leaf=0.0, n_estimators=100, n_jobs=1,\n",
       "            oob_score=False, random_state=None, verbose=0,\n",
       "            warm_start=False),\n",
       "       fit_params=None, iid=True, n_jobs=1,\n",
       "       param_grid={'max_depth': array([ 2,  4,  6,  8, 10, 12, 14, 16, 18, 20])},\n",
       "       pre_dispatch='2*n_jobs', refit=True, return_train_score=True,\n",
       "       scoring=None, verbose=0)"
      ]
     },
     "execution_count": 144,
     "metadata": {},
     "output_type": "execute_result"
    }
   ],
   "source": [
    "clf.fit(data2, data_lables[data_lables.columns[0]])"
   ]
  },
  {
   "cell_type": "code",
   "execution_count": 145,
   "metadata": {},
   "outputs": [
    {
     "data": {
      "text/plain": [
       "{'mean_fit_time': array([  26.63533966,   46.45368338,   67.98136497,   87.49435925,\n",
       "         105.29204106,  118.8380475 ,  129.09089041,  135.49271941,\n",
       "         140.27538856,  144.153723  ]),\n",
       " 'mean_score_time': array([ 1.23266498,  1.37100577,  1.50700037,  1.59633271,  1.75933496,\n",
       "         1.88569347,  1.94267241,  1.96233479,  2.01200589,  2.02066795]),\n",
       " 'mean_test_score': array([ 0.35451355,  0.37132371,  0.39199392,  0.38206382,  0.3704237 ,\n",
       "         0.37447374,  0.38653387,  0.39197392,  0.38484385,  0.37204372]),\n",
       " 'mean_train_score': array([ 0.60256103,  0.77368774,  0.88338383,  0.95343453,  0.99184492,\n",
       "         0.99839498,  0.99964   ,  0.999735  ,  0.99978   ,  0.999805  ]),\n",
       " 'param_max_depth': masked_array(data = [2 4 6 8 10 12 14 16 18 20],\n",
       "              mask = [False False False False False False False False False False],\n",
       "        fill_value = ?),\n",
       " 'params': [{'max_depth': 2},\n",
       "  {'max_depth': 4},\n",
       "  {'max_depth': 6},\n",
       "  {'max_depth': 8},\n",
       "  {'max_depth': 10},\n",
       "  {'max_depth': 12},\n",
       "  {'max_depth': 14},\n",
       "  {'max_depth': 16},\n",
       "  {'max_depth': 18},\n",
       "  {'max_depth': 20}],\n",
       " 'rank_test_score': array([10,  8,  1,  5,  9,  6,  3,  2,  4,  7]),\n",
       " 'split0_test_score': array([ 0.33450335,  0.40383404,  0.4697447 ,  0.46473465,  0.45546455,\n",
       "         0.45828458,  0.49785498,  0.50745507,  0.49770498,  0.46677467]),\n",
       " 'split0_train_score': array([ 0.54896049,  0.79565296,  0.87929379,  0.94418444,  0.99056491,\n",
       "         0.99806498,  0.99958   ,  0.99976   ,  0.999775  ,  0.999805  ]),\n",
       " 'split1_test_score': array([ 0.37692377,  0.37101371,  0.37875379,  0.3598536 ,  0.34410344,\n",
       "         0.33435334,  0.33639336,  0.33873339,  0.34185342,  0.3304233 ]),\n",
       " 'split1_train_score': array([ 0.63450635,  0.7900429 ,  0.88673387,  0.95672457,  0.99545495,\n",
       "         0.99930999,  0.99976   ,  0.999835  ,  0.99985   ,  0.99985   ]),\n",
       " 'split2_test_score': array([ 0.35211352,  0.33912339,  0.32748327,  0.32160322,  0.31170312,\n",
       "         0.33078331,  0.32535325,  0.3297333 ,  0.31497315,  0.31893319]),\n",
       " 'split2_train_score': array([ 0.62421624,  0.73536735,  0.88412384,  0.95939459,  0.9895149 ,\n",
       "         0.99780998,  0.99958   ,  0.99961   ,  0.999715  ,  0.99976   ]),\n",
       " 'std_fit_time': array([ 1.86261957,  1.62375978,  2.40420124,  3.14062476,  3.75057086,\n",
       "         4.58585447,  4.66934242,  5.44807162,  5.32380096,  5.83168802]),\n",
       " 'std_score_time': array([ 0.00660201,  0.04497263,  0.00454692,  0.00601857,  0.01239211,\n",
       "         0.03859406,  0.00309159,  0.02821343,  0.00962913,  0.01918762]),\n",
       " 'std_test_score': array([ 0.01740102,  0.02641892,  0.05882774,  0.06050687,  0.06157058,\n",
       "         0.05928113,  0.07884484,  0.08174013,  0.08055583,  0.06714894]),\n",
       " 'std_train_score': array([  3.81334031e-02,   2.71932223e-02,   3.08214049e-03,\n",
       "          6.63100893e-03,   2.58842307e-03,   6.55330900e-04,\n",
       "          8.48536623e-05,   9.35423701e-05,   5.52273574e-05,\n",
       "          3.67427136e-05])}"
      ]
     },
     "execution_count": 145,
     "metadata": {},
     "output_type": "execute_result"
    }
   ],
   "source": [
    "clf.cv_results_"
   ]
  },
  {
   "cell_type": "code",
   "execution_count": 148,
   "metadata": {},
   "outputs": [
    {
     "name": "stdout",
     "output_type": "stream",
     "text": [
      "[ 0.51363514  0.33762338  0.31917319]\n"
     ]
    }
   ],
   "source": [
    "clf_16depth = RFC(max_depth= 16,n_estimators=1000)\n",
    "score_16 = cross_val_score(clf_16depth, data2, data_lables[data_lables.columns[0]], cv=cv)\n",
    "print(score_16)"
   ]
  },
  {
   "cell_type": "markdown",
   "metadata": {},
   "source": [
    "Лучший получившийся классификатор:"
   ]
  },
  {
   "cell_type": "code",
   "execution_count": 150,
   "metadata": {
    "collapsed": true
   },
   "outputs": [],
   "source": [
    "clf_16depth = RFC(max_depth= 16,n_estimators=5000)"
   ]
  },
  {
   "cell_type": "code",
   "execution_count": 152,
   "metadata": {},
   "outputs": [],
   "source": [
    "from sklearn.model_selection import train_test_split\n",
    "tr_X,  te_X, tr_y,  te_y, = train_test_split(data2, data_lables[data_lables.columns[0]], test_size=0.33, shuffle=False)"
   ]
  },
  {
   "cell_type": "code",
   "execution_count": 153,
   "metadata": {},
   "outputs": [
    {
     "data": {
      "text/plain": [
       "RandomForestClassifier(bootstrap=True, class_weight=None, criterion='gini',\n",
       "            max_depth=16, max_features='auto', max_leaf_nodes=None,\n",
       "            min_impurity_decrease=0.0, min_impurity_split=None,\n",
       "            min_samples_leaf=1, min_samples_split=2,\n",
       "            min_weight_fraction_leaf=0.0, n_estimators=5000, n_jobs=1,\n",
       "            oob_score=False, random_state=None, verbose=0,\n",
       "            warm_start=False)"
      ]
     },
     "execution_count": 153,
     "metadata": {},
     "output_type": "execute_result"
    }
   ],
   "source": [
    "clf_16depth.fit(tr_X, tr_y)"
   ]
  },
  {
   "cell_type": "code",
   "execution_count": 155,
   "metadata": {
    "collapsed": true
   },
   "outputs": [],
   "source": [
    "from sklearn.metrics import f1_score\n",
    "pred = clf_16depth.predict(te_X)"
   ]
  },
  {
   "cell_type": "code",
   "execution_count": 159,
   "metadata": {},
   "outputs": [
    {
     "data": {
      "text/plain": [
       "0.31627272727272726"
      ]
     },
     "execution_count": 159,
     "metadata": {},
     "output_type": "execute_result"
    }
   ],
   "source": [
    "f1_score(te_y,pred,average='micro')"
   ]
  }
 ],
 "metadata": {
  "kernelspec": {
   "display_name": "Python 3",
   "language": "python",
   "name": "python3"
  },
  "language_info": {
   "codemirror_mode": {
    "name": "ipython",
    "version": 3
   },
   "file_extension": ".py",
   "mimetype": "text/x-python",
   "name": "python",
   "nbconvert_exporter": "python",
   "pygments_lexer": "ipython3",
   "version": "3.5.3"
  }
 },
 "nbformat": 4,
 "nbformat_minor": 2
}
